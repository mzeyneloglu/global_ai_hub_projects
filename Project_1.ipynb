{
  "nbformat": 4,
  "nbformat_minor": 0,
  "metadata": {
    "colab": {
      "name": "Proje 1.ipynb",
      "provenance": [],
      "collapsed_sections": []
    },
    "kernelspec": {
      "name": "python3",
      "display_name": "Python 3"
    },
    "language_info": {
      "name": "python"
    }
  },
  "cells": [
    {
      "cell_type": "markdown",
      "source": [
        "# Project 1\n",
        "\n",
        "In this project, you will create a student grading system. What is required of you:\n",
        "\n",
        "● Choose a lesson for yourself. (Math, Physics, Linear Algebra etc.)\n",
        "\n",
        "● Create your note range (100-80 ⇒ A, 79-70 ⇒ B etc.)\n",
        "\n",
        "● You can enter Student Information (Name, Surname, School Number, exam score) and\n",
        "Create a system where information can be kept.\n",
        "\n",
        "● Based on the information entered, it shows whether the student has passed the course or not.\n",
        "required.\n",
        "\n",
        "● If the student has passed the course, \"Passed\" in the field where the student's information is kept,\n",
        "If the student did not pass the course, he/she should show the text \"failed\".\n",
        "\n",
        "● A list of students whose grades are entered shows those who pass the course and those who do not.\n",
        "Create the dataframe.\n",
        "\n",
        "● Convert the created Dataframe to Excel table"
      ],
      "metadata": {
        "id": "ddj9cIU5ga7u"
      }
    },
    {
      "cell_type": "markdown",
      "source": [
        "### Importing Libraries"
      ],
      "metadata": {
        "id": "Yqqn1r5Sg336"
      }
    },
    {
      "cell_type": "code",
      "source": [
        "# Pandas and Numpy\n",
        "import pandas as pd\n",
        "import numpy as np"
      ],
      "metadata": {
        "id": "Vb-LSeI_hNEI"
      },
      "execution_count": 1,
      "outputs": []
    },
    {
      "cell_type": "code",
      "source": [
        "def dict_to_df(dictionary):\n",
        "  return pd.DataFrame(dictionary)"
      ],
      "metadata": {
        "id": "6og7rw6YvmiN"
      },
      "execution_count": 2,
      "outputs": []
    },
    {
      "cell_type": "code",
      "source": [
        "def note_dict():\n",
        "  df_dict = {'name' : [], 'surname' : [] , 'school_no'  : [], 'class_name' : [] ,'note' : [], 'letter_grade': [], 'result' : []}\n",
        "  while True:\n",
        "    class_name = str(input('Enter the class: '))\n",
        "    name = str(input(\"Enter student's name: \"))\n",
        "    surname = str(input(\"Enter student's surname: \"))\n",
        "    school_no = int(input(\"Enter student's school number: \"))\n",
        "    grade = int(input(\"Enter the student's grade: \"))\n",
        "    system = input(\"If you want to exit click 'q'  or keep going to add new student information click 'c': \" )\n",
        "\n",
        "    df_dict['class_name'].append(class_name)\n",
        "    df_dict['name'].append(name)\n",
        "    df_dict['surname'].append(surname)\n",
        "    df_dict['school_no'].append(school_no)\n",
        "    df_dict['note'].append(grade)\n",
        "    if(grade >= 80):\n",
        "      df_dict['letter_grade'].append('A')\n",
        "      df_dict['result'].append('Passed')\n",
        "    elif(grade <= 79 and grade >= 70):\n",
        "      df_dict['letter_grade'].append('B')\n",
        "      df_dict['result'].append('Passed')\n",
        "    elif(grade <= 69 and grade >= 60):\n",
        "      df_dict['letter_grade'].append('C')\n",
        "      df_dict['result'].append('Passed')\n",
        "    elif(grade <= 59 and grade >= 50):\n",
        "      df_dict['letter_grade'].append('D')\n",
        "      df_dict['result'].append('Left')\n",
        "    else:\n",
        "      df_dict['letter_grade'].append('F')\n",
        "      df_dict['result'].append('Left')\n",
        "    \n",
        "    # Tie Condation\n",
        "    if(system == 'q'):\n",
        "      break\n",
        "\n",
        "  return dict_to_df(df_dict)"
      ],
      "metadata": {
        "id": "xq6rl0i9gwAS"
      },
      "execution_count": 7,
      "outputs": []
    },
    {
      "cell_type": "code",
      "source": [
        "def df_to_xlsx(data_frame):\n",
        "  data_frame.to_excel(\"project1.xlsx\")"
      ],
      "metadata": {
        "id": "g0tkyKZLusI-"
      },
      "execution_count": 8,
      "outputs": []
    },
    {
      "cell_type": "code",
      "source": [
        "df = note_dict()"
      ],
      "metadata": {
        "colab": {
          "base_uri": "https://localhost:8080/"
        },
        "id": "qpSuHRp9wvE-",
        "outputId": "edb7aef2-5e97-423d-a73c-d905366b25cd"
      },
      "execution_count": 10,
      "outputs": [
        {
          "name": "stdout",
          "output_type": "stream",
          "text": [
            "Enter the class: Math\n",
            "Enter student's name: Muhammet\n",
            "Enter student's surname: Can\n",
            "Enter student's school number: 556\n",
            "Enter the student's grade: 90\n",
            "If you want to exit click 'q'  or keep going to add new student information click 'c': c\n",
            "Enter the class: Physics\n",
            "Enter student's name: Ebru\n",
            "Enter student's surname: Sır\n",
            "Enter student's school number: 45\n",
            "Enter the student's grade: 40\n",
            "If you want to exit click 'q'  or keep going to add new student information click 'c': c\n",
            "Enter the class: Biology\n",
            "Enter student's name: Kerem\n",
            "Enter student's surname: Dur\n",
            "Enter student's school number: 990\n",
            "Enter the student's grade: 67\n",
            "If you want to exit click 'q'  or keep going to add new student information click 'c': q\n"
          ]
        }
      ]
    },
    {
      "cell_type": "code",
      "source": [
        "df"
      ],
      "metadata": {
        "colab": {
          "base_uri": "https://localhost:8080/",
          "height": 143
        },
        "id": "_4sYdlFVhIxA",
        "outputId": "f8d57e55-32b8-4410-a62c-11fe9dcae499"
      },
      "execution_count": 11,
      "outputs": [
        {
          "output_type": "execute_result",
          "data": {
            "text/plain": [
              "       name surname  school_no class_name  note letter_grade  result\n",
              "0  Muhammet     Can        556       Math    90            A  Passed\n",
              "1      Ebru     Sır         45    Physics    40            F    Left\n",
              "2     Kerem     Dur        990    Biology    67            C  Passed"
            ],
            "text/html": [
              "\n",
              "  <div id=\"df-af8362a9-4cc4-4c46-a5b8-6c9263a91629\">\n",
              "    <div class=\"colab-df-container\">\n",
              "      <div>\n",
              "<style scoped>\n",
              "    .dataframe tbody tr th:only-of-type {\n",
              "        vertical-align: middle;\n",
              "    }\n",
              "\n",
              "    .dataframe tbody tr th {\n",
              "        vertical-align: top;\n",
              "    }\n",
              "\n",
              "    .dataframe thead th {\n",
              "        text-align: right;\n",
              "    }\n",
              "</style>\n",
              "<table border=\"1\" class=\"dataframe\">\n",
              "  <thead>\n",
              "    <tr style=\"text-align: right;\">\n",
              "      <th></th>\n",
              "      <th>name</th>\n",
              "      <th>surname</th>\n",
              "      <th>school_no</th>\n",
              "      <th>class_name</th>\n",
              "      <th>note</th>\n",
              "      <th>letter_grade</th>\n",
              "      <th>result</th>\n",
              "    </tr>\n",
              "  </thead>\n",
              "  <tbody>\n",
              "    <tr>\n",
              "      <th>0</th>\n",
              "      <td>Muhammet</td>\n",
              "      <td>Can</td>\n",
              "      <td>556</td>\n",
              "      <td>Math</td>\n",
              "      <td>90</td>\n",
              "      <td>A</td>\n",
              "      <td>Passed</td>\n",
              "    </tr>\n",
              "    <tr>\n",
              "      <th>1</th>\n",
              "      <td>Ebru</td>\n",
              "      <td>Sır</td>\n",
              "      <td>45</td>\n",
              "      <td>Physics</td>\n",
              "      <td>40</td>\n",
              "      <td>F</td>\n",
              "      <td>Left</td>\n",
              "    </tr>\n",
              "    <tr>\n",
              "      <th>2</th>\n",
              "      <td>Kerem</td>\n",
              "      <td>Dur</td>\n",
              "      <td>990</td>\n",
              "      <td>Biology</td>\n",
              "      <td>67</td>\n",
              "      <td>C</td>\n",
              "      <td>Passed</td>\n",
              "    </tr>\n",
              "  </tbody>\n",
              "</table>\n",
              "</div>\n",
              "      <button class=\"colab-df-convert\" onclick=\"convertToInteractive('df-af8362a9-4cc4-4c46-a5b8-6c9263a91629')\"\n",
              "              title=\"Convert this dataframe to an interactive table.\"\n",
              "              style=\"display:none;\">\n",
              "        \n",
              "  <svg xmlns=\"http://www.w3.org/2000/svg\" height=\"24px\"viewBox=\"0 0 24 24\"\n",
              "       width=\"24px\">\n",
              "    <path d=\"M0 0h24v24H0V0z\" fill=\"none\"/>\n",
              "    <path d=\"M18.56 5.44l.94 2.06.94-2.06 2.06-.94-2.06-.94-.94-2.06-.94 2.06-2.06.94zm-11 1L8.5 8.5l.94-2.06 2.06-.94-2.06-.94L8.5 2.5l-.94 2.06-2.06.94zm10 10l.94 2.06.94-2.06 2.06-.94-2.06-.94-.94-2.06-.94 2.06-2.06.94z\"/><path d=\"M17.41 7.96l-1.37-1.37c-.4-.4-.92-.59-1.43-.59-.52 0-1.04.2-1.43.59L10.3 9.45l-7.72 7.72c-.78.78-.78 2.05 0 2.83L4 21.41c.39.39.9.59 1.41.59.51 0 1.02-.2 1.41-.59l7.78-7.78 2.81-2.81c.8-.78.8-2.07 0-2.86zM5.41 20L4 18.59l7.72-7.72 1.47 1.35L5.41 20z\"/>\n",
              "  </svg>\n",
              "      </button>\n",
              "      \n",
              "  <style>\n",
              "    .colab-df-container {\n",
              "      display:flex;\n",
              "      flex-wrap:wrap;\n",
              "      gap: 12px;\n",
              "    }\n",
              "\n",
              "    .colab-df-convert {\n",
              "      background-color: #E8F0FE;\n",
              "      border: none;\n",
              "      border-radius: 50%;\n",
              "      cursor: pointer;\n",
              "      display: none;\n",
              "      fill: #1967D2;\n",
              "      height: 32px;\n",
              "      padding: 0 0 0 0;\n",
              "      width: 32px;\n",
              "    }\n",
              "\n",
              "    .colab-df-convert:hover {\n",
              "      background-color: #E2EBFA;\n",
              "      box-shadow: 0px 1px 2px rgba(60, 64, 67, 0.3), 0px 1px 3px 1px rgba(60, 64, 67, 0.15);\n",
              "      fill: #174EA6;\n",
              "    }\n",
              "\n",
              "    [theme=dark] .colab-df-convert {\n",
              "      background-color: #3B4455;\n",
              "      fill: #D2E3FC;\n",
              "    }\n",
              "\n",
              "    [theme=dark] .colab-df-convert:hover {\n",
              "      background-color: #434B5C;\n",
              "      box-shadow: 0px 1px 3px 1px rgba(0, 0, 0, 0.15);\n",
              "      filter: drop-shadow(0px 1px 2px rgba(0, 0, 0, 0.3));\n",
              "      fill: #FFFFFF;\n",
              "    }\n",
              "  </style>\n",
              "\n",
              "      <script>\n",
              "        const buttonEl =\n",
              "          document.querySelector('#df-af8362a9-4cc4-4c46-a5b8-6c9263a91629 button.colab-df-convert');\n",
              "        buttonEl.style.display =\n",
              "          google.colab.kernel.accessAllowed ? 'block' : 'none';\n",
              "\n",
              "        async function convertToInteractive(key) {\n",
              "          const element = document.querySelector('#df-af8362a9-4cc4-4c46-a5b8-6c9263a91629');\n",
              "          const dataTable =\n",
              "            await google.colab.kernel.invokeFunction('convertToInteractive',\n",
              "                                                     [key], {});\n",
              "          if (!dataTable) return;\n",
              "\n",
              "          const docLinkHtml = 'Like what you see? Visit the ' +\n",
              "            '<a target=\"_blank\" href=https://colab.research.google.com/notebooks/data_table.ipynb>data table notebook</a>'\n",
              "            + ' to learn more about interactive tables.';\n",
              "          element.innerHTML = '';\n",
              "          dataTable['output_type'] = 'display_data';\n",
              "          await google.colab.output.renderOutput(dataTable, element);\n",
              "          const docLink = document.createElement('div');\n",
              "          docLink.innerHTML = docLinkHtml;\n",
              "          element.appendChild(docLink);\n",
              "        }\n",
              "      </script>\n",
              "    </div>\n",
              "  </div>\n",
              "  "
            ]
          },
          "metadata": {},
          "execution_count": 11
        }
      ]
    },
    {
      "cell_type": "code",
      "source": [
        "df_to_xlsx(df)"
      ],
      "metadata": {
        "id": "_d4osN6qxmI6"
      },
      "execution_count": null,
      "outputs": []
    },
    {
      "cell_type": "markdown",
      "source": [
        "-----"
      ],
      "metadata": {
        "id": "u_SpbBCbyvWN"
      }
    }
  ]
}